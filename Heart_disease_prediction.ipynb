{
  "nbformat": 4,
  "nbformat_minor": 0,
  "metadata": {
    "colab": {
      "name": "Heart disease prediction.ipynb",
      "provenance": [],
      "collapsed_sections": [],
      "mount_file_id": "1xRxi_p9WDSV2Y3fzKTduDEErustKF6Ii",
      "authorship_tag": "ABX9TyM2w+OnhDLCruMfiAjAz5My",
      "include_colab_link": true
    },
    "kernelspec": {
      "display_name": "Python 3",
      "name": "python3"
    },
    "language_info": {
      "name": "python"
    }
  },
  "cells": [
    {
      "cell_type": "markdown",
      "metadata": {
        "id": "view-in-github",
        "colab_type": "text"
      },
      "source": [
        "<a href=\"https://colab.research.google.com/github/Sharath2424/Data-Science-projects/blob/main/Heart_disease_prediction.ipynb\" target=\"_parent\"><img src=\"https://colab.research.google.com/assets/colab-badge.svg\" alt=\"Open In Colab\"/></a>"
      ]
    },
    {
      "cell_type": "markdown",
      "metadata": {
        "id": "QAcCQRLODHeY"
      },
      "source": [
        "# Problem Statement :\n",
        "### HEART DISEASE PREDICTION\n"
      ]
    },
    {
      "cell_type": "markdown",
      "metadata": {
        "id": "z7zuuYeSMWI9"
      },
      "source": [
        "Import libraries and data"
      ]
    },
    {
      "cell_type": "code",
      "metadata": {
        "id": "fvUx8CM4Bsnw"
      },
      "source": [
        "import numpy as np\n",
        "import pandas as pd\n",
        "import seaborn as sns\n",
        "import matplotlib.pyplot as plt\n",
        "import warnings\n",
        "%matplotlib inline\n",
        "warnings.filterwarnings('ignore')"
      ],
      "execution_count": null,
      "outputs": []
    },
    {
      "cell_type": "code",
      "metadata": {
        "colab": {
          "base_uri": "https://localhost:8080/",
          "height": 204
        },
        "id": "LkjaqKq7DV-Q",
        "outputId": "80bbb534-f4aa-4840-f704-bf90ef66e463"
      },
      "source": [
        "df= pd.read_csv('/content/drive/MyDrive/colab datasets/heart.csv')\n",
        "df.head()"
      ],
      "execution_count": null,
      "outputs": [
        {
          "output_type": "execute_result",
          "data": {
            "text/html": [
              "<div>\n",
              "<style scoped>\n",
              "    .dataframe tbody tr th:only-of-type {\n",
              "        vertical-align: middle;\n",
              "    }\n",
              "\n",
              "    .dataframe tbody tr th {\n",
              "        vertical-align: top;\n",
              "    }\n",
              "\n",
              "    .dataframe thead th {\n",
              "        text-align: right;\n",
              "    }\n",
              "</style>\n",
              "<table border=\"1\" class=\"dataframe\">\n",
              "  <thead>\n",
              "    <tr style=\"text-align: right;\">\n",
              "      <th></th>\n",
              "      <th>age</th>\n",
              "      <th>sex</th>\n",
              "      <th>cp</th>\n",
              "      <th>trestbps</th>\n",
              "      <th>chol</th>\n",
              "      <th>fbs</th>\n",
              "      <th>restecg</th>\n",
              "      <th>thalach</th>\n",
              "      <th>exang</th>\n",
              "      <th>oldpeak</th>\n",
              "      <th>slope</th>\n",
              "      <th>ca</th>\n",
              "      <th>thal</th>\n",
              "      <th>target</th>\n",
              "    </tr>\n",
              "  </thead>\n",
              "  <tbody>\n",
              "    <tr>\n",
              "      <th>0</th>\n",
              "      <td>63</td>\n",
              "      <td>1</td>\n",
              "      <td>3</td>\n",
              "      <td>145</td>\n",
              "      <td>233</td>\n",
              "      <td>1</td>\n",
              "      <td>0</td>\n",
              "      <td>150</td>\n",
              "      <td>0</td>\n",
              "      <td>2.3</td>\n",
              "      <td>0</td>\n",
              "      <td>0</td>\n",
              "      <td>1</td>\n",
              "      <td>1</td>\n",
              "    </tr>\n",
              "    <tr>\n",
              "      <th>1</th>\n",
              "      <td>37</td>\n",
              "      <td>1</td>\n",
              "      <td>2</td>\n",
              "      <td>130</td>\n",
              "      <td>250</td>\n",
              "      <td>0</td>\n",
              "      <td>1</td>\n",
              "      <td>187</td>\n",
              "      <td>0</td>\n",
              "      <td>3.5</td>\n",
              "      <td>0</td>\n",
              "      <td>0</td>\n",
              "      <td>2</td>\n",
              "      <td>1</td>\n",
              "    </tr>\n",
              "    <tr>\n",
              "      <th>2</th>\n",
              "      <td>41</td>\n",
              "      <td>0</td>\n",
              "      <td>1</td>\n",
              "      <td>130</td>\n",
              "      <td>204</td>\n",
              "      <td>0</td>\n",
              "      <td>0</td>\n",
              "      <td>172</td>\n",
              "      <td>0</td>\n",
              "      <td>1.4</td>\n",
              "      <td>2</td>\n",
              "      <td>0</td>\n",
              "      <td>2</td>\n",
              "      <td>1</td>\n",
              "    </tr>\n",
              "    <tr>\n",
              "      <th>3</th>\n",
              "      <td>56</td>\n",
              "      <td>1</td>\n",
              "      <td>1</td>\n",
              "      <td>120</td>\n",
              "      <td>236</td>\n",
              "      <td>0</td>\n",
              "      <td>1</td>\n",
              "      <td>178</td>\n",
              "      <td>0</td>\n",
              "      <td>0.8</td>\n",
              "      <td>2</td>\n",
              "      <td>0</td>\n",
              "      <td>2</td>\n",
              "      <td>1</td>\n",
              "    </tr>\n",
              "    <tr>\n",
              "      <th>4</th>\n",
              "      <td>57</td>\n",
              "      <td>0</td>\n",
              "      <td>0</td>\n",
              "      <td>120</td>\n",
              "      <td>354</td>\n",
              "      <td>0</td>\n",
              "      <td>1</td>\n",
              "      <td>163</td>\n",
              "      <td>1</td>\n",
              "      <td>0.6</td>\n",
              "      <td>2</td>\n",
              "      <td>0</td>\n",
              "      <td>2</td>\n",
              "      <td>1</td>\n",
              "    </tr>\n",
              "  </tbody>\n",
              "</table>\n",
              "</div>"
            ],
            "text/plain": [
              "   age  sex  cp  trestbps  chol  fbs  ...  exang  oldpeak  slope  ca  thal  target\n",
              "0   63    1   3       145   233    1  ...      0      2.3      0   0     1       1\n",
              "1   37    1   2       130   250    0  ...      0      3.5      0   0     2       1\n",
              "2   41    0   1       130   204    0  ...      0      1.4      2   0     2       1\n",
              "3   56    1   1       120   236    0  ...      0      0.8      2   0     2       1\n",
              "4   57    0   0       120   354    0  ...      1      0.6      2   0     2       1\n",
              "\n",
              "[5 rows x 14 columns]"
            ]
          },
          "metadata": {},
          "execution_count": 2
        }
      ]
    },
    {
      "cell_type": "markdown",
      "metadata": {
        "id": "l7Xp_BKdDq4f"
      },
      "source": [
        "# Attributes and their meanings\n",
        "1. age: The person's age in years\n",
        "\n",
        "2. sex: The person's sex (1 = male, 0 = female)\n",
        "\n",
        "3. cp: The chest pain experienced (Value 1: typical angina, Value 2: atypical angina, Value 3: non-anginal pain, Value 4: asymptomatic)\n",
        "\n",
        "4. trestbps: The person's resting blood pressure (mm Hg on admission to the hospital)\n",
        "\n",
        "5. chol: The person's cholesterol measurement in mg/dl\n",
        "\n",
        "6. fbs: The person's fasting blood sugar (> 120 mg/dl, 1 = true; 0 = false)\n",
        "\n",
        "7. restecg: Resting electrocardiographic measurement (0 = normal, 1 = having ST-T wave abnormality, 2 = showing probable or definite left ventricular hypertrophy by Estes' criteria)\n",
        "\n",
        "8. thalach: The person's maximum heart rate achieved\n",
        "\n",
        "9. exang: Exercise induced angina (1 = yes; 0 = no)\n",
        "\n",
        "10. oldpeak: ST depression induced by exercise relative to rest ('ST' relates to positions on the ECG plot)\n",
        "\n",
        "11. slope: the slope of the peak exercise ST segment (Value 1: upsloping, Value 2: flat, Value 3: downsloping)\n",
        "\n",
        "12. ca: The number of major vessels (0-3)\n",
        "\n",
        "13. thal: A blood disorder called thalassemia (3 = normal; 6 = fixed defect; 7 = reversable defect)\n",
        "\n",
        "14. target: Heart disease (0 = no, 1 = yes)"
      ]
    },
    {
      "cell_type": "code",
      "metadata": {
        "colab": {
          "base_uri": "https://localhost:8080/"
        },
        "id": "N4ghrJXfDm9a",
        "outputId": "755ed025-c231-4649-ed07-3a7c183782ea"
      },
      "source": [
        "df.shape"
      ],
      "execution_count": null,
      "outputs": [
        {
          "output_type": "execute_result",
          "data": {
            "text/plain": [
              "(303, 14)"
            ]
          },
          "metadata": {},
          "execution_count": 3
        }
      ]
    },
    {
      "cell_type": "code",
      "metadata": {
        "colab": {
          "base_uri": "https://localhost:8080/"
        },
        "id": "vYrC6t4FESzn",
        "outputId": "e44b04c1-34db-4a5e-a09a-18ec20d4df3b"
      },
      "source": [
        "df.info()"
      ],
      "execution_count": null,
      "outputs": [
        {
          "output_type": "stream",
          "name": "stdout",
          "text": [
            "<class 'pandas.core.frame.DataFrame'>\n",
            "RangeIndex: 303 entries, 0 to 302\n",
            "Data columns (total 14 columns):\n",
            " #   Column    Non-Null Count  Dtype  \n",
            "---  ------    --------------  -----  \n",
            " 0   age       303 non-null    int64  \n",
            " 1   sex       303 non-null    int64  \n",
            " 2   cp        303 non-null    int64  \n",
            " 3   trestbps  303 non-null    int64  \n",
            " 4   chol      303 non-null    int64  \n",
            " 5   fbs       303 non-null    int64  \n",
            " 6   restecg   303 non-null    int64  \n",
            " 7   thalach   303 non-null    int64  \n",
            " 8   exang     303 non-null    int64  \n",
            " 9   oldpeak   303 non-null    float64\n",
            " 10  slope     303 non-null    int64  \n",
            " 11  ca        303 non-null    int64  \n",
            " 12  thal      303 non-null    int64  \n",
            " 13  target    303 non-null    int64  \n",
            "dtypes: float64(1), int64(13)\n",
            "memory usage: 33.3 KB\n"
          ]
        }
      ]
    },
    {
      "cell_type": "code",
      "metadata": {
        "colab": {
          "base_uri": "https://localhost:8080/",
          "height": 483
        },
        "id": "ZEIsz9A5EPDT",
        "outputId": "d9821a17-91bf-4ffa-b840-340e9cbd44de"
      },
      "source": [
        "df.describe().T"
      ],
      "execution_count": null,
      "outputs": [
        {
          "output_type": "execute_result",
          "data": {
            "text/html": [
              "<div>\n",
              "<style scoped>\n",
              "    .dataframe tbody tr th:only-of-type {\n",
              "        vertical-align: middle;\n",
              "    }\n",
              "\n",
              "    .dataframe tbody tr th {\n",
              "        vertical-align: top;\n",
              "    }\n",
              "\n",
              "    .dataframe thead th {\n",
              "        text-align: right;\n",
              "    }\n",
              "</style>\n",
              "<table border=\"1\" class=\"dataframe\">\n",
              "  <thead>\n",
              "    <tr style=\"text-align: right;\">\n",
              "      <th></th>\n",
              "      <th>count</th>\n",
              "      <th>mean</th>\n",
              "      <th>std</th>\n",
              "      <th>min</th>\n",
              "      <th>25%</th>\n",
              "      <th>50%</th>\n",
              "      <th>75%</th>\n",
              "      <th>max</th>\n",
              "    </tr>\n",
              "  </thead>\n",
              "  <tbody>\n",
              "    <tr>\n",
              "      <th>age</th>\n",
              "      <td>303.0</td>\n",
              "      <td>54.366337</td>\n",
              "      <td>9.082101</td>\n",
              "      <td>29.0</td>\n",
              "      <td>47.5</td>\n",
              "      <td>55.0</td>\n",
              "      <td>61.0</td>\n",
              "      <td>77.0</td>\n",
              "    </tr>\n",
              "    <tr>\n",
              "      <th>sex</th>\n",
              "      <td>303.0</td>\n",
              "      <td>0.683168</td>\n",
              "      <td>0.466011</td>\n",
              "      <td>0.0</td>\n",
              "      <td>0.0</td>\n",
              "      <td>1.0</td>\n",
              "      <td>1.0</td>\n",
              "      <td>1.0</td>\n",
              "    </tr>\n",
              "    <tr>\n",
              "      <th>cp</th>\n",
              "      <td>303.0</td>\n",
              "      <td>0.966997</td>\n",
              "      <td>1.032052</td>\n",
              "      <td>0.0</td>\n",
              "      <td>0.0</td>\n",
              "      <td>1.0</td>\n",
              "      <td>2.0</td>\n",
              "      <td>3.0</td>\n",
              "    </tr>\n",
              "    <tr>\n",
              "      <th>trestbps</th>\n",
              "      <td>303.0</td>\n",
              "      <td>131.623762</td>\n",
              "      <td>17.538143</td>\n",
              "      <td>94.0</td>\n",
              "      <td>120.0</td>\n",
              "      <td>130.0</td>\n",
              "      <td>140.0</td>\n",
              "      <td>200.0</td>\n",
              "    </tr>\n",
              "    <tr>\n",
              "      <th>chol</th>\n",
              "      <td>303.0</td>\n",
              "      <td>246.264026</td>\n",
              "      <td>51.830751</td>\n",
              "      <td>126.0</td>\n",
              "      <td>211.0</td>\n",
              "      <td>240.0</td>\n",
              "      <td>274.5</td>\n",
              "      <td>564.0</td>\n",
              "    </tr>\n",
              "    <tr>\n",
              "      <th>fbs</th>\n",
              "      <td>303.0</td>\n",
              "      <td>0.148515</td>\n",
              "      <td>0.356198</td>\n",
              "      <td>0.0</td>\n",
              "      <td>0.0</td>\n",
              "      <td>0.0</td>\n",
              "      <td>0.0</td>\n",
              "      <td>1.0</td>\n",
              "    </tr>\n",
              "    <tr>\n",
              "      <th>restecg</th>\n",
              "      <td>303.0</td>\n",
              "      <td>0.528053</td>\n",
              "      <td>0.525860</td>\n",
              "      <td>0.0</td>\n",
              "      <td>0.0</td>\n",
              "      <td>1.0</td>\n",
              "      <td>1.0</td>\n",
              "      <td>2.0</td>\n",
              "    </tr>\n",
              "    <tr>\n",
              "      <th>thalach</th>\n",
              "      <td>303.0</td>\n",
              "      <td>149.646865</td>\n",
              "      <td>22.905161</td>\n",
              "      <td>71.0</td>\n",
              "      <td>133.5</td>\n",
              "      <td>153.0</td>\n",
              "      <td>166.0</td>\n",
              "      <td>202.0</td>\n",
              "    </tr>\n",
              "    <tr>\n",
              "      <th>exang</th>\n",
              "      <td>303.0</td>\n",
              "      <td>0.326733</td>\n",
              "      <td>0.469794</td>\n",
              "      <td>0.0</td>\n",
              "      <td>0.0</td>\n",
              "      <td>0.0</td>\n",
              "      <td>1.0</td>\n",
              "      <td>1.0</td>\n",
              "    </tr>\n",
              "    <tr>\n",
              "      <th>oldpeak</th>\n",
              "      <td>303.0</td>\n",
              "      <td>1.039604</td>\n",
              "      <td>1.161075</td>\n",
              "      <td>0.0</td>\n",
              "      <td>0.0</td>\n",
              "      <td>0.8</td>\n",
              "      <td>1.6</td>\n",
              "      <td>6.2</td>\n",
              "    </tr>\n",
              "    <tr>\n",
              "      <th>slope</th>\n",
              "      <td>303.0</td>\n",
              "      <td>1.399340</td>\n",
              "      <td>0.616226</td>\n",
              "      <td>0.0</td>\n",
              "      <td>1.0</td>\n",
              "      <td>1.0</td>\n",
              "      <td>2.0</td>\n",
              "      <td>2.0</td>\n",
              "    </tr>\n",
              "    <tr>\n",
              "      <th>ca</th>\n",
              "      <td>303.0</td>\n",
              "      <td>0.729373</td>\n",
              "      <td>1.022606</td>\n",
              "      <td>0.0</td>\n",
              "      <td>0.0</td>\n",
              "      <td>0.0</td>\n",
              "      <td>1.0</td>\n",
              "      <td>4.0</td>\n",
              "    </tr>\n",
              "    <tr>\n",
              "      <th>thal</th>\n",
              "      <td>303.0</td>\n",
              "      <td>2.313531</td>\n",
              "      <td>0.612277</td>\n",
              "      <td>0.0</td>\n",
              "      <td>2.0</td>\n",
              "      <td>2.0</td>\n",
              "      <td>3.0</td>\n",
              "      <td>3.0</td>\n",
              "    </tr>\n",
              "    <tr>\n",
              "      <th>target</th>\n",
              "      <td>303.0</td>\n",
              "      <td>0.544554</td>\n",
              "      <td>0.498835</td>\n",
              "      <td>0.0</td>\n",
              "      <td>0.0</td>\n",
              "      <td>1.0</td>\n",
              "      <td>1.0</td>\n",
              "      <td>1.0</td>\n",
              "    </tr>\n",
              "  </tbody>\n",
              "</table>\n",
              "</div>"
            ],
            "text/plain": [
              "          count        mean        std    min    25%    50%    75%    max\n",
              "age       303.0   54.366337   9.082101   29.0   47.5   55.0   61.0   77.0\n",
              "sex       303.0    0.683168   0.466011    0.0    0.0    1.0    1.0    1.0\n",
              "cp        303.0    0.966997   1.032052    0.0    0.0    1.0    2.0    3.0\n",
              "trestbps  303.0  131.623762  17.538143   94.0  120.0  130.0  140.0  200.0\n",
              "chol      303.0  246.264026  51.830751  126.0  211.0  240.0  274.5  564.0\n",
              "fbs       303.0    0.148515   0.356198    0.0    0.0    0.0    0.0    1.0\n",
              "restecg   303.0    0.528053   0.525860    0.0    0.0    1.0    1.0    2.0\n",
              "thalach   303.0  149.646865  22.905161   71.0  133.5  153.0  166.0  202.0\n",
              "exang     303.0    0.326733   0.469794    0.0    0.0    0.0    1.0    1.0\n",
              "oldpeak   303.0    1.039604   1.161075    0.0    0.0    0.8    1.6    6.2\n",
              "slope     303.0    1.399340   0.616226    0.0    1.0    1.0    2.0    2.0\n",
              "ca        303.0    0.729373   1.022606    0.0    0.0    0.0    1.0    4.0\n",
              "thal      303.0    2.313531   0.612277    0.0    2.0    2.0    3.0    3.0\n",
              "target    303.0    0.544554   0.498835    0.0    0.0    1.0    1.0    1.0"
            ]
          },
          "metadata": {},
          "execution_count": 5
        }
      ]
    },
    {
      "cell_type": "markdown",
      "metadata": {
        "id": "NFpSrOxKEdsJ"
      },
      "source": [
        "# **EDA**"
      ]
    },
    {
      "cell_type": "code",
      "metadata": {
        "colab": {
          "base_uri": "https://localhost:8080/"
        },
        "id": "V5l0QToLERRl",
        "outputId": "aa0b1df6-be81-41c9-e2f6-1bc8c88699c0"
      },
      "source": [
        "df.isnull().sum()"
      ],
      "execution_count": null,
      "outputs": [
        {
          "output_type": "execute_result",
          "data": {
            "text/plain": [
              "age         0\n",
              "sex         0\n",
              "cp          0\n",
              "trestbps    0\n",
              "chol        0\n",
              "fbs         0\n",
              "restecg     0\n",
              "thalach     0\n",
              "exang       0\n",
              "oldpeak     0\n",
              "slope       0\n",
              "ca          0\n",
              "thal        0\n",
              "target      0\n",
              "dtype: int64"
            ]
          },
          "metadata": {},
          "execution_count": 6
        }
      ]
    },
    {
      "cell_type": "markdown",
      "metadata": {
        "id": "u7sqIhfMiLEl"
      },
      "source": [
        "Data has no null-values."
      ]
    },
    {
      "cell_type": "code",
      "metadata": {
        "colab": {
          "base_uri": "https://localhost:8080/",
          "height": 373
        },
        "id": "hS9yUAH3EZiW",
        "outputId": "b909fee5-3719-40e4-a405-6e94120b1b89"
      },
      "source": [
        "labels = df['target'].value_counts().index\n",
        "size = df['target'].value_counts().values\n",
        "plt.figure(figsize = (6,6))\n",
        "plt.pie(size,colors = ['lightskyblue', 'gold'],explode = (0, 0.050), labels = labels,shadow = True,autopct = \"%.2f%%\")\n",
        "plt.title('Outcome percentage')\n",
        "plt.axis('off')\n",
        "plt.legend()\n",
        "plt.show()"
      ],
      "execution_count": null,
      "outputs": [
        {
          "output_type": "display_data",
          "data": {
            "image/png": "[encoded data removed]",
            "text/plain": [
              "<Figure size 432x432 with 1 Axes>"
            ]
          },
          "metadata": {}
        }
      ]
    },
    {
      "cell_type": "code",
      "metadata": {
        "colab": {
          "base_uri": "https://localhost:8080/"
        },
        "id": "_YJhEi21EmVb",
        "outputId": "b1034a4d-1b32-4f4c-b846-b17ca81bc5ba"
      },
      "source": [
        "df['target'].value_counts()"
      ],
      "execution_count": null,
      "outputs": [
        {
          "output_type": "execute_result",
          "data": {
            "text/plain": [
              "1    165\n",
              "0    138\n",
              "Name: target, dtype: int64"
            ]
          },
          "metadata": {},
          "execution_count": 8
        }
      ]
    },
    {
      "cell_type": "markdown",
      "metadata": {
        "id": "Z1D8cLSeEx7b"
      },
      "source": [
        "Interpretations :\n",
        "1. The above pie diagram confirms the findings that -\n",
        "2. There are 165 patients suffering from heart disease, and\n",
        "3. There are 138 patients who do not have any heart disease."
      ]
    },
    {
      "cell_type": "markdown",
      "metadata": {
        "id": "q3o6laBaE4qB"
      },
      "source": [
        "So this is a pretty much balanced dataset"
      ]
    },
    {
      "cell_type": "code",
      "metadata": {
        "colab": {
          "base_uri": "https://localhost:8080/"
        },
        "id": "8XIy_nLpEukI",
        "outputId": "651f7c82-0d4f-45ce-def8-1b06e0799447"
      },
      "source": [
        "df.groupby('sex')['target'].value_counts()"
      ],
      "execution_count": null,
      "outputs": [
        {
          "output_type": "execute_result",
          "data": {
            "text/plain": [
              "sex  target\n",
              "0    1          72\n",
              "     0          24\n",
              "1    0         114\n",
              "     1          93\n",
              "Name: target, dtype: int64"
            ]
          },
          "metadata": {},
          "execution_count": 9
        }
      ]
    },
    {
      "cell_type": "code",
      "metadata": {
        "colab": {
          "base_uri": "https://localhost:8080/",
          "height": 383
        },
        "id": "KhETW9tSFBme",
        "outputId": "73e5e3a2-70ab-4897-856b-9cbc400135bd"
      },
      "source": [
        "ax = sns.catplot(y=\"target\", col=\"sex\", data=df, kind=\"count\", height=5,  palette=\"Accent\")"
      ],
      "execution_count": null,
      "outputs": [
        {
          "output_type": "display_data",
          "data": {
            "image/png": "[encoded data removed]",
            "text/plain": [
              "<Figure size 720x360 with 2 Axes>"
            ]
          },
          "metadata": {
            "needs_background": "light"
          }
        }
      ]
    },
    {
      "cell_type": "markdown",
      "metadata": {
        "id": "yjg3I7IwFMX4"
      },
      "source": [
        "Interpretations :\n",
        "\n",
        "We can see that the values of target variable are plotted wrt sex : (1 = male; 0 = female).\n",
        "\n",
        "target variable also contains two integer values 1 and 0 : (1 = Presence of heart disease; 0 = Absence of heart disease)\n",
        "\n",
        "The above plot confirms our findings that -\n",
        "\n",
        "1. Out of 96 females - 72 have heart disease and 24 do not have heart disease.\n",
        "2. Similarly, out of 207 males - 93 have heart disease and 114 do not have heart disease."
      ]
    },
    {
      "cell_type": "code",
      "metadata": {
        "colab": {
          "base_uri": "https://localhost:8080/",
          "height": 388
        },
        "id": "elRbEEFAFFv0",
        "outputId": "a61fc28d-7fa8-4a04-bd23-e337fda94c29"
      },
      "source": [
        "plt.figure(figsize=(15,6))\n",
        "sns.distplot(df['age'])\n",
        "plt.show()"
      ],
      "execution_count": null,
      "outputs": [
        {
          "output_type": "display_data",
          "data": {
            "image/png": "[encoded data removed]",
            "text/plain": [
              "<Figure size 1080x432 with 1 Axes>"
            ]
          },
          "metadata": {
            "needs_background": "light"
          }
        }
      ]
    },
    {
      "cell_type": "markdown",
      "metadata": {
        "id": "KRn1zDdZFhnR"
      },
      "source": [
        "Interpretation :\n",
        "\n",
        "The age is mostly normally distributed"
      ]
    },
    {
      "cell_type": "markdown",
      "metadata": {
        "id": "iUV-wXY4Fkvw"
      },
      "source": [
        "### Effect of AGE on Heart Disease"
      ]
    },
    {
      "cell_type": "code",
      "metadata": {
        "colab": {
          "base_uri": "https://localhost:8080/",
          "height": 411
        },
        "id": "Wml-jIyiFUnK",
        "outputId": "65052b25-6f58-4f2a-d62f-1cf7f4bcbb43"
      },
      "source": [
        "plt.figure(figsize=(15,6))\n",
        "sns.boxplot(x='target',y='age',data=df,palette='viridis')\n",
        "plt.title('Heart Attacks by Age',size=15)\n",
        "plt.xlabel('No Heart Attack vs. Heart Attack',size=15)\n",
        "plt.ylabel('Age',size=15);"
      ],
      "execution_count": null,
      "outputs": [
        {
          "output_type": "display_data",
          "data": {
            "image/png": "[encoded data removed]",
            "text/plain": [
              "<Figure size 1080x432 with 1 Axes>"
            ]
          },
          "metadata": {
            "needs_background": "light"
          }
        }
      ]
    },
    {
      "cell_type": "markdown",
      "metadata": {
        "id": "LBCBIGcYF2fZ"
      },
      "source": [
        "Interpretation :\n",
        "\n",
        "Median Age of patients with no heart attacks is higher. 50-60 years of age is the most crucial year in terms of heart disease."
      ]
    },
    {
      "cell_type": "code",
      "metadata": {
        "colab": {
          "base_uri": "https://localhost:8080/",
          "height": 595
        },
        "id": "LS1us6sgFviI",
        "outputId": "eacf2566-7423-4ac7-ecef-68648a202839"
      },
      "source": [
        "plt.figure(figsize=(20,10))\n",
        "c= df.corr()\n",
        "sns.heatmap(c,cmap=\"Blues\",annot=True);"
      ],
      "execution_count": null,
      "outputs": [
        {
          "output_type": "display_data",
          "data": {
            "image/png": "[encoded data removed]",
            "text/plain": [
              "<Figure size 1440x720 with 2 Axes>"
            ]
          },
          "metadata": {
            "needs_background": "light"
          }
        }
      ]
    },
    {
      "cell_type": "markdown",
      "metadata": {
        "id": "H1l2BL5iGAHB"
      },
      "source": [
        "Interpretations:\n",
        "\n",
        "From this correlation we can conclude that chol and fbs don't have any major impact on cardiac problems. Except these two features all the other features are contributing towards heart disease to a certain extent."
      ]
    },
    {
      "cell_type": "markdown",
      "metadata": {
        "id": "bOpyA9_QGDUJ"
      },
      "source": [
        "### Analysis of target vs cp"
      ]
    },
    {
      "cell_type": "code",
      "metadata": {
        "colab": {
          "base_uri": "https://localhost:8080/"
        },
        "id": "XjF9DlZfF5fz",
        "outputId": "07eb304a-be8b-482e-f6ae-74773546f769"
      },
      "source": [
        "df['cp'].value_counts()"
      ],
      "execution_count": null,
      "outputs": [
        {
          "output_type": "execute_result",
          "data": {
            "text/plain": [
              "0    143\n",
              "2     87\n",
              "1     50\n",
              "3     23\n",
              "Name: cp, dtype: int64"
            ]
          },
          "metadata": {},
          "execution_count": 14
        }
      ]
    },
    {
      "cell_type": "code",
      "metadata": {
        "colab": {
          "base_uri": "https://localhost:8080/",
          "height": 388
        },
        "id": "W99w1IOpGG2J",
        "outputId": "ac8db385-93e6-49c0-9f4f-60dd1c9b06b1"
      },
      "source": [
        "plt.figure(figsize=(15,6))\n",
        "sns.countplot(x=\"cp\", data=df, palette=\"magma\")\n",
        "plt.show()\n"
      ],
      "execution_count": null,
      "outputs": [
        {
          "output_type": "display_data",
          "data": {
            "image/png": "[encoded data removed]",
            "text/plain": [
              "<Figure size 1080x432 with 1 Axes>"
            ]
          },
          "metadata": {
            "needs_background": "light"
          }
        }
      ]
    },
    {
      "cell_type": "code",
      "metadata": {
        "colab": {
          "base_uri": "https://localhost:8080/"
        },
        "id": "JeWIRXDwGJyD",
        "outputId": "8872bbb9-e8ef-41ec-9921-af3aebe21a80"
      },
      "source": [
        "df.groupby('cp')['target'].value_counts()"
      ],
      "execution_count": null,
      "outputs": [
        {
          "output_type": "execute_result",
          "data": {
            "text/plain": [
              "cp  target\n",
              "0   0         104\n",
              "    1          39\n",
              "1   1          41\n",
              "    0           9\n",
              "2   1          69\n",
              "    0          18\n",
              "3   1          16\n",
              "    0           7\n",
              "Name: target, dtype: int64"
            ]
          },
          "metadata": {},
          "execution_count": 16
        }
      ]
    },
    {
      "cell_type": "code",
      "metadata": {
        "colab": {
          "base_uri": "https://localhost:8080/",
          "height": 411
        },
        "id": "XSEpIEKGGM0R",
        "outputId": "6b1021b8-5149-415c-8466-3c5bb1115c99"
      },
      "source": [
        "plt.figure(figsize=(15,6))\n",
        "sns.countplot(x='target',data=df,palette='magma',hue='cp')\n",
        "plt.title('Number of No Heart Attacks vs. Heart Attacks by Chest Pain type',size=15)\n",
        "plt.xlabel('Patients',size=15)\n",
        "plt.ylabel('Count',size=15);"
      ],
      "execution_count": null,
      "outputs": [
        {
          "output_type": "display_data",
          "data": {
            "image/png": "[encoded data removed]",
            "text/plain": [
              "<Figure size 1080x432 with 1 Axes>"
            ]
          },
          "metadata": {
            "needs_background": "light"
          }
        }
      ]
    },
    {
      "cell_type": "markdown",
      "metadata": {
        "id": "jH1yxy2JGanS"
      },
      "source": [
        "Interpretations :\n",
        "\n",
        "There are four types of chest pains. Chest pain type 0 had less heart attack occurences. It also had the most patients with no heart attacks. Chest pain type 2 had most heart attack occurences. Chest pain type 3 had least heart attack occurences.\n",
        "\n",
        "So we can conclude that most of the heart attacks are caused by chest pain type 2 .\n",
        "\n"
      ]
    },
    {
      "cell_type": "markdown",
      "metadata": {
        "id": "VYgVoH6BGeN4"
      },
      "source": [
        "### Analysis of target vs thalach"
      ]
    },
    {
      "cell_type": "code",
      "metadata": {
        "colab": {
          "base_uri": "https://localhost:8080/",
          "height": 383
        },
        "id": "FC95lRtwGPEd",
        "outputId": "7b724a0f-570b-4026-d312-85a1a468c96e"
      },
      "source": [
        "sns.catplot(data = df, x = 'sex', y = 'thalach', palette = 'colorblind', hue = 'target')\n",
        "plt.show()"
      ],
      "execution_count": null,
      "outputs": [
        {
          "output_type": "display_data",
          "data": {
            "image/png": "[encoded data removed]",
            "text/plain": [
              "<Figure size 402.375x360 with 1 Axes>"
            ]
          },
          "metadata": {
            "needs_background": "light"
          }
        }
      ]
    },
    {
      "cell_type": "code",
      "metadata": {
        "colab": {
          "base_uri": "https://localhost:8080/",
          "height": 279
        },
        "id": "xFNmdC_hGu6D",
        "outputId": "b05aa4ac-23c3-494e-aac2-9a89c76adc70"
      },
      "source": [
        "sns.boxplot(x=\"target\", y=\"thalach\", data=df)\n",
        "plt.show()"
      ],
      "execution_count": null,
      "outputs": [
        {
          "output_type": "display_data",
          "data": {
            "image/png": "[encoded data removed]",
            "text/plain": [
              "<Figure size 432x288 with 1 Axes>"
            ]
          },
          "metadata": {
            "needs_background": "light"
          }
        }
      ]
    },
    {
      "cell_type": "markdown",
      "metadata": {
        "id": "FlCp20-2G9nh"
      },
      "source": [
        "Interpretation :\n",
        "\n",
        "We can see that those people suffering from heart disease (target = 1) have relatively higher heart rate (thalach) as compared to people who are not suffering from heart disease (target = 0).\n",
        "\n",
        "This is a symptom called Trachycardia."
      ]
    },
    {
      "cell_type": "markdown",
      "metadata": {
        "id": "-O0RoGizHBCh"
      },
      "source": [
        "### Analysis of target vs exang"
      ]
    },
    {
      "cell_type": "code",
      "metadata": {
        "colab": {
          "base_uri": "https://localhost:8080/"
        },
        "id": "n8udFD2OG_Ww",
        "outputId": "310c123b-8c95-4cba-cc35-c8a0d63bf5aa"
      },
      "source": [
        "df.groupby('exang')['target'].value_counts()"
      ],
      "execution_count": null,
      "outputs": [
        {
          "output_type": "execute_result",
          "data": {
            "text/plain": [
              "exang  target\n",
              "0      1         142\n",
              "       0          62\n",
              "1      0          76\n",
              "       1          23\n",
              "Name: target, dtype: int64"
            ]
          },
          "metadata": {},
          "execution_count": 20
        }
      ]
    },
    {
      "cell_type": "code",
      "metadata": {
        "colab": {
          "base_uri": "https://localhost:8080/",
          "height": 383
        },
        "id": "sBeXNwP4HD1C",
        "outputId": "0376b913-ebcb-44ef-bb92-910f6610bea2"
      },
      "source": [
        "sns.catplot(kind = 'bar', data = df, y = 'exang', x = 'sex', hue = 'target',palette='PuBuGn_r')\n",
        "plt.show()"
      ],
      "execution_count": null,
      "outputs": [
        {
          "output_type": "display_data",
          "data": {
            "image/png": "[encoded data removed]",
            "text/plain": [
              "<Figure size 402.375x360 with 1 Axes>"
            ]
          },
          "metadata": {
            "needs_background": "light"
          }
        }
      ]
    },
    {
      "cell_type": "markdown",
      "metadata": {
        "id": "zdjXLzzYHMaJ"
      },
      "source": [
        "Interpretation :\n",
        "\n",
        "There is an increased level of exang in men. this might be leading to heart disease in men.\n",
        "\n"
      ]
    },
    {
      "cell_type": "markdown",
      "metadata": {
        "id": "lJ5-5eXtHP7x"
      },
      "source": [
        "### Effect of FBS on Heart Disease"
      ]
    },
    {
      "cell_type": "code",
      "metadata": {
        "colab": {
          "base_uri": "https://localhost:8080/",
          "height": 393
        },
        "id": "sO1muaYHHF-F",
        "outputId": "216ea8bd-bf87-4ea1-ffb1-3220c9247850"
      },
      "source": [
        "plt.figure(figsize=(15,6))\n",
        "sns.countplot(x='fbs',data=df,palette='Set3',hue='target')\n",
        "plt.xlabel('0-> fps <120 , 1-> fps>120',size=15)\n",
        "plt.ylabel('Count',size=15);"
      ],
      "execution_count": null,
      "outputs": [
        {
          "output_type": "display_data",
          "data": {
            "image/png": "[encoded data removed]",
            "text/plain": [
              "<Figure size 1080x432 with 1 Axes>"
            ]
          },
          "metadata": {
            "needs_background": "light"
          }
        }
      ]
    },
    {
      "cell_type": "markdown",
      "metadata": {
        "id": "LHaskh7sHV_j"
      },
      "source": [
        "Interpretation :\n",
        "\n",
        "People having fps < 120 have more chance of having Heart Disease than people havnig fps >120"
      ]
    },
    {
      "cell_type": "markdown",
      "metadata": {
        "id": "wNiRiMtmHkEz"
      },
      "source": [
        "### Effect of RESTECG on Heart Disease"
      ]
    },
    {
      "cell_type": "code",
      "metadata": {
        "colab": {
          "base_uri": "https://localhost:8080/",
          "height": 394
        },
        "id": "VICrfi1eHSxt",
        "outputId": "e78e3606-e967-4f9e-98a6-784af61cec3e"
      },
      "source": [
        "plt.figure(figsize=(15,6))\n",
        "sns.countplot(x='restecg',data=df,palette='cividis',hue='target')\n",
        "plt.xlabel('resting electrocardiographic',size=15)\n",
        "plt.ylabel('Count',size=15);"
      ],
      "execution_count": null,
      "outputs": [
        {
          "output_type": "display_data",
          "data": {
            "image/png": "[encoded data removed]",
            "text/plain": [
              "<Figure size 1080x432 with 1 Axes>"
            ]
          },
          "metadata": {
            "needs_background": "light"
          }
        }
      ]
    },
    {
      "cell_type": "markdown",
      "metadata": {
        "id": "6wlujhDnHsFq"
      },
      "source": [
        "Interpretation :\n",
        "\n",
        "An electrocardiogram (ECG) is a test which measures the electrical activity of your heart to show whether or not it is working normally. An ECG records the heart's rhythm and activity on a moving strip of paper or a line on a screen.\n",
        "\n",
        "With above graph as a refrence we can say that if resting electrocardiographic is 1 i.e. having ST-T wave abnormality then the person has more chances of suffering from Heart Disease."
      ]
    },
    {
      "cell_type": "markdown",
      "metadata": {
        "id": "vctPY7F2HvvD"
      },
      "source": [
        "### Effect of SLOPE on Heart Disease"
      ]
    },
    {
      "cell_type": "code",
      "metadata": {
        "colab": {
          "base_uri": "https://localhost:8080/",
          "height": 393
        },
        "id": "SdUBnXJxHnyc",
        "outputId": "d8e6c6dc-0a48-457e-deda-d680d0759a87"
      },
      "source": [
        "plt.figure(figsize=(15,6))\n",
        "sns.countplot(x='slope',data=df,palette='BuGn',hue='target')\n",
        "plt.xlabel('peak exercise ST segment',size=15)\n",
        "plt.ylabel('Count',size=15);"
      ],
      "execution_count": null,
      "outputs": [
        {
          "output_type": "display_data",
          "data": {
            "image/png": "[encoded data removed]",
            "text/plain": [
              "<Figure size 1080x432 with 1 Axes>"
            ]
          },
          "metadata": {
            "needs_background": "light"
          }
        }
      ]
    },
    {
      "cell_type": "markdown",
      "metadata": {
        "id": "SVRzafphH1M6"
      },
      "source": [
        "Interpretation :\n",
        "\n",
        "Feature (the peak exercise ST segment slope) has three symbolic values (flat,downsloping,upsloping)\n",
        "\n",
        "Therefore People having up sloping are more prone to Heart Disease than flat and downsloping."
      ]
    },
    {
      "cell_type": "code",
      "metadata": {
        "colab": {
          "base_uri": "https://localhost:8080/",
          "height": 418
        },
        "id": "wOOV-InCHy2g",
        "outputId": "1d7d97c8-da7b-44b4-cf01-2e9b790bc97d"
      },
      "source": [
        "plt.figure(figsize=(15,6))\n",
        "sns.factorplot(y='trestbps',data=df,x='cp',hue='target',palette='Set2')\n",
        "plt.title('Trestbps V/S Chest Pain',size=15);"
      ],
      "execution_count": null,
      "outputs": [
        {
          "output_type": "display_data",
          "data": {
            "text/plain": [
              "<Figure size 1080x432 with 0 Axes>"
            ]
          },
          "metadata": {}
        },
        {
          "output_type": "display_data",
          "data": {
            "image/png": "[encoded data removed]",
            "text/plain": [
              "<Figure size 402.375x360 with 1 Axes>"
            ]
          },
          "metadata": {
            "needs_background": "light"
          }
        }
      ]
    },
    {
      "cell_type": "markdown",
      "metadata": {
        "id": "xSJnXI_6H7Px"
      },
      "source": [
        "Interpretation :\n",
        "\n",
        "As Chest pain increases Blood Pressure will also increase along with the chances of Heart Disease."
      ]
    },
    {
      "cell_type": "code",
      "metadata": {
        "colab": {
          "base_uri": "https://localhost:8080/",
          "height": 383
        },
        "id": "uG2sOSBlH4Gp",
        "outputId": "4f1b1f7b-a204-4bbd-b64e-74a3717c378d"
      },
      "source": [
        "sns.catplot(data = df, x = 'sex', y = 'oldpeak', palette = 'colorblind', hue = 'target');"
      ],
      "execution_count": null,
      "outputs": [
        {
          "output_type": "display_data",
          "data": {
            "image/png": "[encoded data removed]",
            "text/plain": [
              "<Figure size 402.375x360 with 1 Axes>"
            ]
          },
          "metadata": {
            "needs_background": "light"
          }
        }
      ]
    },
    {
      "cell_type": "markdown",
      "metadata": {
        "id": "JEFWyeEUIIpr"
      },
      "source": [
        "Interpretation :\n",
        "\n",
        "Based on the above plot we can conclude that if Old peak is less than 2 then people will have more chances of having heart disease."
      ]
    },
    {
      "cell_type": "markdown",
      "metadata": {
        "id": "ySrZJGgiIL9i"
      },
      "source": [
        "# **Model Building**"
      ]
    },
    {
      "cell_type": "markdown",
      "metadata": {
        "id": "ylPnvK8VIWIr"
      },
      "source": [
        "## Logistic Regression :\n",
        "Logistic Regression is a classification algorithm. It is used to predict a binary outcome (1 / 0, Yes / No, True / False) given a set of independent variables.\n",
        "\n",
        "Logistic regression is an estimation of Logit function. Logit function is simply a log of odds in favor of the event.\n",
        "\n",
        "This function creates a s-shaped curve with the probability estimate, which is very similar to the required step wise function"
      ]
    },
    {
      "cell_type": "markdown",
      "metadata": {
        "id": "rRkxBGUVIddx"
      },
      "source": [
        "Splitting Train and Test data"
      ]
    },
    {
      "cell_type": "code",
      "metadata": {
        "id": "dpQtZTS9H-Ux"
      },
      "source": [
        "from sklearn.model_selection import train_test_split"
      ],
      "execution_count": null,
      "outputs": []
    },
    {
      "cell_type": "code",
      "metadata": {
        "id": "YuIFuEPGIgF3"
      },
      "source": [
        "x = df.drop('target',axis=1)\n",
        "y = df['target']"
      ],
      "execution_count": null,
      "outputs": []
    },
    {
      "cell_type": "code",
      "metadata": {
        "id": "OXw2JiD1Ih6Y"
      },
      "source": [
        "x_train, x_cv, y_train, y_cv = train_test_split(x, y, test_size=0.30, random_state=40)"
      ],
      "execution_count": null,
      "outputs": []
    },
    {
      "cell_type": "code",
      "metadata": {
        "colab": {
          "base_uri": "https://localhost:8080/"
        },
        "id": "K3fWzlDiIjRs",
        "outputId": "1b2c27ac-33d2-47f8-e4c8-d656558fda40"
      },
      "source": [
        "x_train.shape, x_cv.shape, y_train.shape, y_cv.shape"
      ],
      "execution_count": null,
      "outputs": [
        {
          "output_type": "execute_result",
          "data": {
            "text/plain": [
              "((212, 13), (91, 13), (212,), (91,))"
            ]
          },
          "metadata": {},
          "execution_count": 30
        }
      ]
    },
    {
      "cell_type": "markdown",
      "metadata": {
        "id": "vGbyFzB_ImsD"
      },
      "source": [
        "Standard Scaling"
      ]
    },
    {
      "cell_type": "code",
      "metadata": {
        "id": "9ODiKLcIIlE6"
      },
      "source": [
        "from sklearn.preprocessing import StandardScaler"
      ],
      "execution_count": null,
      "outputs": []
    },
    {
      "cell_type": "code",
      "metadata": {
        "id": "nlv_QHa5Io3d"
      },
      "source": [
        "scaler = StandardScaler()\n",
        "\n",
        "X_train_scaled = scaler.fit_transform(x_train)\n",
        "\n",
        "X_test_scaled = scaler.transform(x_cv)"
      ],
      "execution_count": null,
      "outputs": []
    },
    {
      "cell_type": "code",
      "metadata": {
        "id": "MxGuFDo9IqQQ"
      },
      "source": [
        "from sklearn.linear_model import LogisticRegression\n",
        "from sklearn.metrics import accuracy_score"
      ],
      "execution_count": null,
      "outputs": []
    },
    {
      "cell_type": "markdown",
      "metadata": {
        "id": "ujZXrXVnIuaj"
      },
      "source": [
        "Initialize Model"
      ]
    },
    {
      "cell_type": "code",
      "metadata": {
        "id": "Ru7ns2TaIsGO"
      },
      "source": [
        "model = LogisticRegression(random_state=40)"
      ],
      "execution_count": null,
      "outputs": []
    },
    {
      "cell_type": "markdown",
      "metadata": {
        "id": "i1v8DCSRI7Vo"
      },
      "source": [
        "Fitting train data into model"
      ]
    },
    {
      "cell_type": "code",
      "metadata": {
        "colab": {
          "base_uri": "https://localhost:8080/"
        },
        "id": "YLmSaoXqIwa1",
        "outputId": "aa8c8c73-fd49-4eee-e422-130274cd788a"
      },
      "source": [
        "model.fit(X_train_scaled, y_train)"
      ],
      "execution_count": null,
      "outputs": [
        {
          "output_type": "execute_result",
          "data": {
            "text/plain": [
              "LogisticRegression(C=1.0, class_weight=None, dual=False, fit_intercept=True,\n",
              "                   intercept_scaling=1, l1_ratio=None, max_iter=100,\n",
              "                   multi_class='auto', n_jobs=None, penalty='l2',\n",
              "                   random_state=40, solver='lbfgs', tol=0.0001, verbose=0,\n",
              "                   warm_start=False)"
            ]
          },
          "metadata": {},
          "execution_count": 35
        }
      ]
    },
    {
      "cell_type": "markdown",
      "metadata": {
        "id": "ktlyN4o-JA9K"
      },
      "source": [
        "Predicting Accuracy"
      ]
    },
    {
      "cell_type": "code",
      "metadata": {
        "id": "9KoElnAWI9uc"
      },
      "source": [
        "pred_cv = model.predict(X_test_scaled)"
      ],
      "execution_count": null,
      "outputs": []
    },
    {
      "cell_type": "code",
      "metadata": {
        "colab": {
          "base_uri": "https://localhost:8080/"
        },
        "id": "yRIAAq35JDMl",
        "outputId": "1924101d-02dd-4e35-d3fd-50af7f4a6e75"
      },
      "source": [
        "accuracy_score(y_cv, pred_cv)"
      ],
      "execution_count": null,
      "outputs": [
        {
          "output_type": "execute_result",
          "data": {
            "text/plain": [
              "0.9230769230769231"
            ]
          },
          "metadata": {},
          "execution_count": 37
        }
      ]
    },
    {
      "cell_type": "markdown",
      "metadata": {
        "id": "1rZHH10OJHZ6"
      },
      "source": [
        "Confusion Matrix"
      ]
    },
    {
      "cell_type": "code",
      "metadata": {
        "colab": {
          "base_uri": "https://localhost:8080/",
          "height": 346
        },
        "id": "Uoae_QOLJFXh",
        "outputId": "cdbfe55a-bbb1-4c20-8e03-343f3f3f12b5"
      },
      "source": [
        "from sklearn.metrics import confusion_matrix\n",
        " \n",
        "cm = confusion_matrix(y_cv, pred_cv)\n",
        "print(cm)\n",
        "\n",
        "# f, ax = plt.subplots(figsize=(9, 6))\n",
        "sns.heatmap(cm, annot=True)\n",
        "plt.title('Confusion matrix of the classifier')\n",
        "plt.xlabel('Predicted')\n",
        "plt.ylabel('True')\n"
      ],
      "execution_count": null,
      "outputs": [
        {
          "output_type": "stream",
          "name": "stdout",
          "text": [
            "[[35  5]\n",
            " [ 2 49]]\n"
          ]
        },
        {
          "output_type": "execute_result",
          "data": {
            "text/plain": [
              "Text(33.0, 0.5, 'True')"
            ]
          },
          "metadata": {},
          "execution_count": 38
        },
        {
          "output_type": "display_data",
          "data": {
            "image/png": "[encoded data removed]",
            "text/plain": [
              "<Figure size 432x288 with 2 Axes>"
            ]
          },
          "metadata": {
            "needs_background": "light"
          }
        }
      ]
    },
    {
      "cell_type": "code",
      "metadata": {
        "colab": {
          "base_uri": "https://localhost:8080/"
        },
        "id": "RKe2pookJKxM",
        "outputId": "099d83ea-1a08-4d17-e7f0-655d6a5f9280"
      },
      "source": [
        "from sklearn.metrics import classification_report\n",
        "print(classification_report(y_cv, pred_cv))"
      ],
      "execution_count": null,
      "outputs": [
        {
          "output_type": "stream",
          "name": "stdout",
          "text": [
            "              precision    recall  f1-score   support\n",
            "\n",
            "           0       0.95      0.88      0.91        40\n",
            "           1       0.91      0.96      0.93        51\n",
            "\n",
            "    accuracy                           0.92        91\n",
            "   macro avg       0.93      0.92      0.92        91\n",
            "weighted avg       0.92      0.92      0.92        91\n",
            "\n"
          ]
        }
      ]
    },
    {
      "cell_type": "markdown",
      "metadata": {
        "id": "ecXI0vEiJRxo"
      },
      "source": [
        "# KNN Classifier :\n",
        "K-Nearest Neighbors (KNN) is one of the simplest algorithms used in Machine Learning for regression and classification problem.\n",
        "\n",
        "KNN algorithms use data and classify new data points based on similarity measures (e.g. distance function).\n",
        "\n",
        "Classification is done by a majority vote to its neighbours.\n",
        "\n",
        " Standard Scaling"
      ]
    },
    {
      "cell_type": "code",
      "metadata": {
        "id": "iad2cAtyJOUM"
      },
      "source": [
        "from sklearn.preprocessing import StandardScaler"
      ],
      "execution_count": null,
      "outputs": []
    },
    {
      "cell_type": "code",
      "metadata": {
        "id": "2M7CYJnTJwcV"
      },
      "source": [
        "scaler = StandardScaler()\n",
        "scaler.fit(df.drop('target',axis=1))\n",
        "scaled_features = scaler.transform(df.drop('target',axis=1))\n",
        "df_feat = pd.DataFrame(scaled_features,columns=df.columns[:-1])"
      ],
      "execution_count": null,
      "outputs": []
    },
    {
      "cell_type": "markdown",
      "metadata": {
        "id": "pc5co9VDJ0mV"
      },
      "source": [
        "Splitting Train and Test data"
      ]
    },
    {
      "cell_type": "code",
      "metadata": {
        "id": "Kasq30LsJ2ze"
      },
      "source": [
        "from sklearn.model_selection import train_test_split\n",
        "X_train, X_test, Y_train, Y_test = train_test_split(scaled_features,df['target'], test_size=0.30)"
      ],
      "execution_count": null,
      "outputs": []
    },
    {
      "cell_type": "code",
      "metadata": {
        "id": "lLIWXTl2KAE8"
      },
      "source": [
        "from sklearn.neighbors import KNeighborsClassifier\n",
        "from sklearn.model_selection import cross_val_score"
      ],
      "execution_count": null,
      "outputs": []
    },
    {
      "cell_type": "code",
      "metadata": {
        "id": "Qhm7hIzjKB5Z"
      },
      "source": [
        "accuracy_rate = []\n",
        "\n",
        "for i in range(1,41):\n",
        "    \n",
        "    knn = KNeighborsClassifier(n_neighbors=i)\n",
        "    score=cross_val_score(knn,df_feat,df['target'],cv=10)\n",
        "    accuracy_rate.append(score.mean())"
      ],
      "execution_count": null,
      "outputs": []
    },
    {
      "cell_type": "code",
      "metadata": {
        "colab": {
          "base_uri": "https://localhost:8080/",
          "height": 421
        },
        "id": "tZL71CUtKD1s",
        "outputId": "a4d60ecf-6c33-47fa-c2e4-2d89ec636ce4"
      },
      "source": [
        "plt.figure(figsize=(10,6))\n",
        "\n",
        "plt.plot(range(1,41),accuracy_rate,color='blue', linestyle='dashed', marker='o',\n",
        "         markerfacecolor='red', markersize=10)\n",
        "plt.title('Accuracy Rate vs. K Value')\n",
        "plt.xlabel('K')\n",
        "plt.ylabel('Accuracy Rate')"
      ],
      "execution_count": null,
      "outputs": [
        {
          "output_type": "execute_result",
          "data": {
            "text/plain": [
              "Text(0, 0.5, 'Accuracy Rate')"
            ]
          },
          "metadata": {},
          "execution_count": 45
        },
        {
          "output_type": "display_data",
          "data": {
            "image/png": "[encoded data removed]",
            "text/plain": [
              "<Figure size 720x432 with 1 Axes>"
            ]
          },
          "metadata": {
            "needs_background": "light"
          }
        }
      ]
    },
    {
      "cell_type": "markdown",
      "metadata": {
        "id": "zE9O_o_eKIs8"
      },
      "source": [
        "Initialize Model"
      ]
    },
    {
      "cell_type": "code",
      "metadata": {
        "id": "4cyk3VuxKGBL"
      },
      "source": [
        "knn = KNeighborsClassifier(n_neighbors=31)"
      ],
      "execution_count": null,
      "outputs": []
    },
    {
      "cell_type": "markdown",
      "metadata": {
        "id": "1jTJSVJ5KOn9"
      },
      "source": [
        "Fitting train data into model"
      ]
    },
    {
      "cell_type": "code",
      "metadata": {
        "colab": {
          "base_uri": "https://localhost:8080/"
        },
        "id": "dUP5LhvgKL8E",
        "outputId": "755ed1ee-e11e-4f6c-bbd2-b40820d8e2f5"
      },
      "source": [
        "knn.fit(X_train,Y_train)"
      ],
      "execution_count": null,
      "outputs": [
        {
          "output_type": "execute_result",
          "data": {
            "text/plain": [
              "KNeighborsClassifier(algorithm='auto', leaf_size=30, metric='minkowski',\n",
              "                     metric_params=None, n_jobs=None, n_neighbors=31, p=2,\n",
              "                     weights='uniform')"
            ]
          },
          "metadata": {},
          "execution_count": 47
        }
      ]
    },
    {
      "cell_type": "code",
      "metadata": {
        "colab": {
          "base_uri": "https://localhost:8080/"
        },
        "id": "jt-L4JrOKRAT",
        "outputId": "469f1a56-c974-4b83-bfe5-3d7850f72e95"
      },
      "source": [
        "pred = knn.predict(X_test)\n",
        "accuracy_score(Y_test, pred)"
      ],
      "execution_count": null,
      "outputs": [
        {
          "output_type": "execute_result",
          "data": {
            "text/plain": [
              "0.7802197802197802"
            ]
          },
          "metadata": {},
          "execution_count": 48
        }
      ]
    },
    {
      "cell_type": "code",
      "metadata": {
        "colab": {
          "base_uri": "https://localhost:8080/",
          "height": 346
        },
        "id": "Tatud3P-KjY9",
        "outputId": "ec072058-feb5-4dc7-8698-51688205ad3e"
      },
      "source": [
        "from sklearn.metrics import confusion_matrix\n",
        " \n",
        "cm = confusion_matrix(Y_test, pred)\n",
        "print(cm)\n",
        "sns.heatmap(cm, annot=True, fmt=\"d\")\n",
        "plt.title('Confusion matrix of the classifier')\n",
        "plt.xlabel('Predicted')\n",
        "plt.ylabel('True')"
      ],
      "execution_count": null,
      "outputs": [
        {
          "output_type": "stream",
          "name": "stdout",
          "text": [
            "[[30 15]\n",
            " [ 5 41]]\n"
          ]
        },
        {
          "output_type": "execute_result",
          "data": {
            "text/plain": [
              "Text(33.0, 0.5, 'True')"
            ]
          },
          "metadata": {},
          "execution_count": 49
        },
        {
          "output_type": "display_data",
          "data": {
            "image/png": "[encoded data removed]",
            "text/plain": [
              "<Figure size 432x288 with 2 Axes>"
            ]
          },
          "metadata": {
            "needs_background": "light"
          }
        }
      ]
    },
    {
      "cell_type": "code",
      "metadata": {
        "colab": {
          "base_uri": "https://localhost:8080/"
        },
        "id": "8D5NG1UUKst7",
        "outputId": "319e7d2c-f19e-4329-9b90-5d7193e1fe0f"
      },
      "source": [
        "from sklearn.metrics import classification_report\n",
        "print(classification_report(Y_test, pred))"
      ],
      "execution_count": null,
      "outputs": [
        {
          "output_type": "stream",
          "name": "stdout",
          "text": [
            "              precision    recall  f1-score   support\n",
            "\n",
            "           0       0.86      0.67      0.75        45\n",
            "           1       0.73      0.89      0.80        46\n",
            "\n",
            "    accuracy                           0.78        91\n",
            "   macro avg       0.79      0.78      0.78        91\n",
            "weighted avg       0.79      0.78      0.78        91\n",
            "\n"
          ]
        }
      ]
    },
    {
      "cell_type": "markdown",
      "metadata": {
        "id": "jeQevKWDK16o"
      },
      "source": [
        "## Random Forest Classifier :\n",
        "\n",
        "RandomForest is a tree based bootstrapping algorithm wherein a certain no. of weak learners (decision trees) are combined to make a powerful prediction model.\n",
        "\n",
        "For every individual learner, a random sample of rows and a few randomly chosen variables are used to build a decision tree model.\n",
        "\n",
        "Final prediction can be a function of all the predictions made by the individual learners.\n",
        "\n",
        "In case of regression problem, the final prediction can be mean of all the predictions.\n",
        "\n",
        "There are some parameters worth exploring with the sklearn RandomForestClassifier: n_estimators max_features\n",
        "\n",
        "n_estimators = ususally bigger the forest the better, there is small chance of overfitting here. The more estimators you give it, the better it will do. We will use the value of 600.\n",
        "\n",
        "max depth of each tree (default none, leading to full tree) - reduction of the maximum depth helps fighting with overfitting. We will limit at 2."
      ]
    },
    {
      "cell_type": "markdown",
      "metadata": {
        "id": "Ih1IglzPK9-u"
      },
      "source": [
        "Splitting Train and Test data¶\n"
      ]
    },
    {
      "cell_type": "code",
      "metadata": {
        "id": "xSls6-lqKv_a"
      },
      "source": [
        "from sklearn.model_selection import train_test_split\n",
        "x_train, x_test, y_train, y_test = train_test_split(x, y, test_size=0.30,random_state=42)"
      ],
      "execution_count": null,
      "outputs": []
    },
    {
      "cell_type": "code",
      "metadata": {
        "id": "I_62B8nGLCaM"
      },
      "source": [
        "from sklearn.ensemble import RandomForestClassifier\n"
      ],
      "execution_count": null,
      "outputs": []
    },
    {
      "cell_type": "markdown",
      "metadata": {
        "id": "ztlTSaS4LIK2"
      },
      "source": [
        "Initialize model\n"
      ]
    },
    {
      "cell_type": "code",
      "metadata": {
        "id": "OcCi0L5LLGOU"
      },
      "source": [
        "rf= RandomForestClassifier(n_estimators =600, random_state=42,max_depth=2) "
      ],
      "execution_count": null,
      "outputs": []
    },
    {
      "cell_type": "markdown",
      "metadata": {
        "id": "0MfIIB-fLL0r"
      },
      "source": [
        "Fitting train data into model"
      ]
    },
    {
      "cell_type": "code",
      "metadata": {
        "colab": {
          "base_uri": "https://localhost:8080/"
        },
        "id": "qpu2QEy5LJ0f",
        "outputId": "4b565499-2fe2-4dd0-c366-5441c626684e"
      },
      "source": [
        "rf.fit(x_train,y_train) "
      ],
      "execution_count": null,
      "outputs": [
        {
          "output_type": "execute_result",
          "data": {
            "text/plain": [
              "RandomForestClassifier(bootstrap=True, ccp_alpha=0.0, class_weight=None,\n",
              "                       criterion='gini', max_depth=2, max_features='auto',\n",
              "                       max_leaf_nodes=None, max_samples=None,\n",
              "                       min_impurity_decrease=0.0, min_impurity_split=None,\n",
              "                       min_samples_leaf=1, min_samples_split=2,\n",
              "                       min_weight_fraction_leaf=0.0, n_estimators=600,\n",
              "                       n_jobs=None, oob_score=False, random_state=42, verbose=0,\n",
              "                       warm_start=False)"
            ]
          },
          "metadata": {},
          "execution_count": 54
        }
      ]
    },
    {
      "cell_type": "markdown",
      "metadata": {
        "id": "74PuJ5JDLP8C"
      },
      "source": [
        "Predicting Accuracy"
      ]
    },
    {
      "cell_type": "code",
      "metadata": {
        "colab": {
          "base_uri": "https://localhost:8080/"
        },
        "id": "N5DXveiFLNnK",
        "outputId": "0286142b-982e-40c1-d476-03eccbf3dfdd"
      },
      "source": [
        "pred = rf.predict(x_test)\n",
        "accuracy_score(y_test, pred)"
      ],
      "execution_count": null,
      "outputs": [
        {
          "output_type": "execute_result",
          "data": {
            "text/plain": [
              "0.8791208791208791"
            ]
          },
          "metadata": {},
          "execution_count": 55
        }
      ]
    },
    {
      "cell_type": "markdown",
      "metadata": {
        "id": "BLLZ7EcsLTp_"
      },
      "source": [
        "Confusion Matrix\n"
      ]
    },
    {
      "cell_type": "code",
      "metadata": {
        "colab": {
          "base_uri": "https://localhost:8080/",
          "height": 346
        },
        "id": "U3ewqrINLRz1",
        "outputId": "abb6d3e5-345d-450f-b55a-8d92957bf660"
      },
      "source": [
        "from sklearn.metrics import confusion_matrix\n",
        " \n",
        "cm = confusion_matrix(y_test, pred)\n",
        "print(cm)\n",
        "\n",
        "# f, ax = plt.subplots(figsize=(9, 6))\n",
        "sns.heatmap(cm, annot=True, fmt=\"d\")\n",
        "plt.title('Confusion matrix of the classifier')\n",
        "plt.xlabel('Predicted')\n",
        "plt.ylabel('True')"
      ],
      "execution_count": null,
      "outputs": [
        {
          "output_type": "stream",
          "name": "stdout",
          "text": [
            "[[34  7]\n",
            " [ 4 46]]\n"
          ]
        },
        {
          "output_type": "execute_result",
          "data": {
            "text/plain": [
              "Text(33.0, 0.5, 'True')"
            ]
          },
          "metadata": {},
          "execution_count": 56
        },
        {
          "output_type": "display_data",
          "data": {
            "image/png": "[encoded data removed]",
            "text/plain": [
              "<Figure size 432x288 with 2 Axes>"
            ]
          },
          "metadata": {
            "needs_background": "light"
          }
        }
      ]
    },
    {
      "cell_type": "code",
      "metadata": {
        "colab": {
          "base_uri": "https://localhost:8080/"
        },
        "id": "Znt6x7pnLV3U",
        "outputId": "fc7f4464-63a9-43e5-8c26-9bb8b81d3ab3"
      },
      "source": [
        "from sklearn.metrics import classification_report\n",
        "print(classification_report(y_test, pred))"
      ],
      "execution_count": null,
      "outputs": [
        {
          "output_type": "stream",
          "name": "stdout",
          "text": [
            "              precision    recall  f1-score   support\n",
            "\n",
            "           0       0.89      0.83      0.86        41\n",
            "           1       0.87      0.92      0.89        50\n",
            "\n",
            "    accuracy                           0.88        91\n",
            "   macro avg       0.88      0.87      0.88        91\n",
            "weighted avg       0.88      0.88      0.88        91\n",
            "\n"
          ]
        }
      ]
    },
    {
      "cell_type": "markdown",
      "metadata": {
        "id": "LohhV6r4TIyo"
      },
      "source": [
        "## Conclusions:"
      ]
    },
    {
      "cell_type": "markdown",
      "metadata": {
        "id": "FWD6UBQ1Tajl"
      },
      "source": [
        "1. Logistic regression model achieved 92% accuracy.\n",
        "2. KNN model achieved 78.0% accuracy.\n",
        "3. Random forest model achieved 87.9% accuracy."
      ]
    },
    {
      "cell_type": "code",
      "metadata": {
        "id": "YMSmHFm2eKwd"
      },
      "source": [
        "1. "
      ],
      "execution_count": null,
      "outputs": []
    }
  ]
}